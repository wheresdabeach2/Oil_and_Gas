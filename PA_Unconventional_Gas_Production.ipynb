{
 "cells": [
  {
   "cell_type": "code",
   "execution_count": null,
   "metadata": {},
   "outputs": [],
   "source": [
    "import pandas as pd\n",
    "import datetime as dt\n",
    "import numpy as np\n",
    "import random\n",
    "from scipy.optimize import curve_fit"
   ]
  },
  {
   "cell_type": "markdown",
   "metadata": {},
   "source": [
    "Read in csv from website https://www.depgreenport.state.pa.us/ReportExtracts/OG/OilGasWellProdReport\n",
    "for All wells and save\n",
    "saved_file is the directory location of where the file will be saved"
   ]
  },
  {
   "cell_type": "code",
   "execution_count": null,
   "metadata": {},
   "outputs": [],
   "source": [
    "#file = (insert file here as csv)\n",
    "#saved_file = (insert final save location here as csv)"
   ]
  },
  {
   "cell_type": "code",
   "execution_count": null,
   "metadata": {},
   "outputs": [],
   "source": [
    "data = pd.read_csv(file)\n",
    "\n",
    "data_preserved = data"
   ]
  },
  {
   "cell_type": "code",
   "execution_count": null,
   "metadata": {},
   "outputs": [],
   "source": [
    "#Remove inactive wells\n",
    "data = data[data['WELL_STATUS'] == 'Active']"
   ]
  },
  {
   "cell_type": "code",
   "execution_count": null,
   "metadata": {},
   "outputs": [],
   "source": [
    "#Remove averaged production wells\n",
    "data = data[data['AVERAGED'] == 'No']"
   ]
  },
  {
   "cell_type": "code",
   "execution_count": null,
   "metadata": {},
   "outputs": [],
   "source": [
    "#Convert string dates to datetimes\n",
    "data['SPUD_DATE'] = pd.to_datetime(data['SPUD_DATE'])\n",
    "data['PRODUCTION_PERIOD_START_DATE'] = data['PRODUCTION_PERIOD_START_DATE'].apply(lambda x: dt.datetime.strptime(x,'%m/%d/%Y'))\n",
    "data['PRODUCTION_PERIOD_END_DATE'] = data['PRODUCTION_PERIOD_END_DATE'].apply(lambda x: dt.datetime.strptime(x,'%m/%d/%Y'))"
   ]
  },
  {
   "cell_type": "code",
   "execution_count": null,
   "metadata": {},
   "outputs": [],
   "source": [
    "#Use time intervals to calculate total days\n",
    "data['TOTAL_DAYS'] = data['PRODUCTION_PERIOD_END_DATE'].sub(data['PRODUCTION_PERIOD_START_DATE'], axis=0)\n",
    "data['TOTAL_DAYS'] = data['TOTAL_DAYS'] / np.timedelta64(1, 'D')\n",
    "\n",
    "#if there are no production days filled, assume full time period production, otherwise given production days\n",
    "data.GAS_PRODUCTION_DAYS.fillna(data.TOTAL_DAYS, inplace=True)\n",
    "#Delete Production days\n",
    "del data['TOTAL_DAYS']"
   ]
  },
  {
   "cell_type": "code",
   "execution_count": null,
   "metadata": {},
   "outputs": [],
   "source": [
    "#Fix wells that have innacurate Days for first month's production (3 days should be 30)\n",
    "bad_range_IP_apis = ['059-27077', '059-27078', '059-27079', '059-27080']\n",
    "for i in bad_range_IP_apis:\n",
    "    data.loc[(data['GAS_PRODUCTION_DAYS'] ==3) &  (data['PERIOD_ID'] =='17NOVP') & (data['WELL_PERMIT_NUM'] == i), 'GAS_PRODUCTION_DAYS'] = 30"
   ]
  },
  {
   "cell_type": "code",
   "execution_count": null,
   "metadata": {},
   "outputs": [],
   "source": [
    "#Calculate average production per day producing period\n",
    "data['AVERAGE_GAS_DAILY_PRODUCTION'] = data['GAS_QUANTITY']/data['GAS_PRODUCTION_DAYS']"
   ]
  },
  {
   "cell_type": "code",
   "execution_count": null,
   "metadata": {},
   "outputs": [],
   "source": [
    "#Remove conventional wells, vertical wells and negative, 50 or infinite values in the production\n",
    "data_unconv = data[(data['AVERAGE_GAS_DAILY_PRODUCTION']>50) &(data['AVERAGE_GAS_DAILY_PRODUCTION']<10000000000000)]\n",
    "data_unconv = data_unconv[data_unconv['UNCONVENTIONAL'] == 'Yes']\n",
    "data_unconv = data_unconv[data_unconv['WELL_CONFIGURATION'] == 'Horizontal Well']"
   ]
  },
  {
   "cell_type": "code",
   "execution_count": null,
   "metadata": {},
   "outputs": [],
   "source": [
    "#Sort data by permit num then production date\n",
    "data_unconv = data_unconv.sort_values(['WELL_PERMIT_NUM', 'PRODUCTION_PERIOD_START_DATE'])"
   ]
  },
  {
   "cell_type": "code",
   "execution_count": null,
   "metadata": {},
   "outputs": [],
   "source": [
    "#Remove wells that have no operator\n",
    "data_unconv.drop(data_unconv[data_unconv['OPERATOR'] == ''].index, inplace = True)"
   ]
  },
  {
   "cell_type": "code",
   "execution_count": null,
   "metadata": {},
   "outputs": [],
   "source": [
    "#Function - Reset index, find index where gas production is maximum, return df starting at max index\n",
    "def FindMax(df):\n",
    "    df = df.reset_index(drop = True)\n",
    "    maxin = df['AVERAGE_GAS_DAILY_PRODUCTION'].idxmax()\n",
    "    df = df[maxin:]\n",
    "    return df"
   ]
  },
  {
   "cell_type": "code",
   "execution_count": null,
   "metadata": {},
   "outputs": [],
   "source": [
    "#Apply FindMax to data to remove values before max production\n",
    "data_unconv_max = data_unconv.groupby('WELL_PERMIT_NUM').apply(FindMax)"
   ]
  },
  {
   "cell_type": "code",
   "execution_count": null,
   "metadata": {},
   "outputs": [],
   "source": [
    "#Recategorize Rice and Chevron wells to EQT wells\n",
    "data_unconv_max['OPERATOR'] = data_unconv_max['OPERATOR'].replace(['RICE DRILLING B LLC', 'CHEVRON APPALACHIA LLC'], 'EQT PROD CO')"
   ]
  },
  {
   "cell_type": "code",
   "execution_count": null,
   "metadata": {},
   "outputs": [],
   "source": [
    "#Add IP Column\n",
    "data_unconv_max.reset_index(inplace=True, drop=True)\n",
    "data_unconv_max['IP'] = data_unconv_max.groupby('WELL_PERMIT_NUM')['AVERAGE_GAS_DAILY_PRODUCTION'].transform('max')"
   ]
  },
  {
   "cell_type": "code",
   "execution_count": null,
   "metadata": {},
   "outputs": [],
   "source": [
    "#Add months of production column\n",
    "data_unconv_max.reset_index(inplace=True, drop=True)\n",
    "data_unconv_max['Months'] = data_unconv_max.groupby(['WELL_PERMIT_NUM'])['GAS_PRODUCTION_DAYS'].apply(lambda x: x.cumsum()/30.4)   "
   ]
  },
  {
   "cell_type": "code",
   "execution_count": null,
   "metadata": {},
   "outputs": [],
   "source": [
    "#Add TIL year\n",
    "data_unconv_max['YEAR_TIL'] = data_unconv_max.groupby(['WELL_PERMIT_NUM'])['PRODUCTION_PERIOD_START_DATE'].transform(min)\n",
    "data_unconv_max['YEAR_TIL'] = pd.DatetimeIndex(data_unconv_max['YEAR_TIL']).year"
   ]
  },
  {
   "cell_type": "code",
   "execution_count": null,
   "metadata": {},
   "outputs": [],
   "source": [
    "#Remove Permit nums that have less than 12 lines (production data points)\n",
    "data_unconv_max = data_unconv_max.groupby('WELL_PERMIT_NUM').filter(lambda x : len(x)>12)"
   ]
  },
  {
   "cell_type": "code",
   "execution_count": null,
   "metadata": {},
   "outputs": [],
   "source": [
    "len(data_unconv_max)"
   ]
  },
  {
   "cell_type": "code",
   "execution_count": null,
   "metadata": {},
   "outputs": [],
   "source": [
    "#Drop unused columns\n",
    "unused_columns = ['PERIOD_ID', 'REPORTING_PERIOD',\n",
    "       'PRODUCTION_INDICATOR', 'WELL_STATUS','OIL_QUANTITY',\n",
    "       'OIL_PRODUCTION_DAYS', 'AVERAGED', 'GROUP_NO', 'OGO_NUM',\n",
    "       'UNCONVENTIONAL', 'WELL_CONFIGURATION',\n",
    "       'NON_PRODUCTION_COMMENTS', 'ADDITIONAL_COMMENTS', 'REPORT_GENERATED_DATE', 'RECORD_SOURCE',\n",
    "                'WELL_TYPE']\n",
    "\n",
    "data_unconv_max = data_unconv_max.drop(columns = unused_columns)"
   ]
  },
  {
   "cell_type": "code",
   "execution_count": null,
   "metadata": {},
   "outputs": [],
   "source": [
    "#Plot data for random individual well\n",
    "permits = data_unconv_max.WELL_PERMIT_NUM.unique().tolist()\n",
    "import plotly.graph_objects as go\n",
    "\n",
    "api = '035-21178'\n",
    "print(api)\n",
    "xwell = data_unconv_max[data_unconv_max.WELL_PERMIT_NUM == api]['PRODUCTION_PERIOD_START_DATE']\n",
    "ywell = data_unconv_max[data_unconv_max.WELL_PERMIT_NUM == api]['AVERAGE_GAS_DAILY_PRODUCTION']\n",
    "\n",
    "fig = go.Figure()\n",
    "fig.add_trace(go.Scatter(\n",
    "                    x=xwell,\n",
    "                    y=ywell,\n",
    "                    mode='lines',\n",
    "                    name='Daily Production'))\n",
    "\n",
    "fig.show()"
   ]
  },
  {
   "cell_type": "code",
   "execution_count": null,
   "metadata": {},
   "outputs": [],
   "source": [
    "#Function to determine Arps curve production\n",
    "def decline_curve(qi):\n",
    "    def Arps(t,di,b):\n",
    "        return qi / np.power((1+b*di*t),1./b)\n",
    "    return Arps"
   ]
  },
  {
   "cell_type": "code",
   "execution_count": null,
   "metadata": {},
   "outputs": [],
   "source": [
    "#Provides forecast for row with arps variables\n",
    "def get_forecast(row):\n",
    "    d_i = row.d_i\n",
    "    b = row.b\n",
    "    q_i =row.q_i\n",
    "    t = row.Months\n",
    "    \n",
    "    return q_i / np.power((1+b*d_i*t),1./b)"
   ]
  },
  {
   "cell_type": "code",
   "execution_count": null,
   "metadata": {},
   "outputs": [],
   "source": [
    "#Create Arps values and forecast for dataframe\n",
    "#Error API's initiliaze\n",
    "errors =[]\n",
    "def Projection(df):\n",
    "    df.reset_index(inplace=True, drop=True)\n",
    "    t = df.Months\n",
    "    q = df.AVERAGE_GAS_DAILY_PRODUCTION\n",
    "    #Initial Production\n",
    "    hyp = decline_curve(q[0])\n",
    "    p0 = [.5,1]\n",
    "    try:\n",
    "        x,y = curve_fit(hyp, t,q, maxfev = 10000, p0=p0)\n",
    "    except:\n",
    "        return errors.append(df['WELL_PERMIT_NUM'].iloc[1])\n",
    "    d_i = x[0]\n",
    "    b = x[1]\n",
    "    df['d_i'] = d_i\n",
    "    df['b'] = b\n",
    "    df['q_i'] = q[0]\n",
    "    df['FORECAST'] = df.apply(get_forecast, axis=1)\n",
    "    return df\n"
   ]
  },
  {
   "cell_type": "code",
   "execution_count": null,
   "metadata": {},
   "outputs": [],
   "source": [
    "#reset index and sort values\n",
    "data_unconv_max.reset_index(inplace=True, drop=True)\n",
    "data_unconv_max = data_unconv_max.sort_values(['WELL_PERMIT_NUM', 'PRODUCTION_PERIOD_START_DATE'])"
   ]
  },
  {
   "cell_type": "code",
   "execution_count": null,
   "metadata": {},
   "outputs": [],
   "source": [
    "#run projection on full dataset\n",
    "fullset = data_unconv_max\n",
    "fullset = fullset.groupby('WELL_PERMIT_NUM').apply(Projection)\n"
   ]
  },
  {
   "cell_type": "code",
   "execution_count": null,
   "metadata": {},
   "outputs": [],
   "source": [
    "#Drop wells with high or low b values and high Di values\n",
    "fullset.drop(fullset[fullset['b'] > 3].index, inplace=True)"
   ]
  },
  {
   "cell_type": "code",
   "execution_count": null,
   "metadata": {},
   "outputs": [],
   "source": [
    "fullset.drop(fullset[fullset['b'] < 0].index, inplace=True)"
   ]
  },
  {
   "cell_type": "code",
   "execution_count": null,
   "metadata": {},
   "outputs": [],
   "source": [
    "fullset.drop(fullset[fullset['d_i'] > 1].index, inplace=True)"
   ]
  },
  {
   "cell_type": "code",
   "execution_count": null,
   "metadata": {},
   "outputs": [],
   "source": [
    "#Add TIL year\n",
    "fullset.reset_index(inplace=True, drop=True)\n",
    "fullset['YEAR_TIL'] = pd.DatetimeIndex(fullset.groupby(['WELL_PERMIT_NUM'])['PRODUCTION_PERIOD_START_DATE'].transform(min)).year"
   ]
  },
  {
   "cell_type": "code",
   "execution_count": null,
   "metadata": {},
   "outputs": [],
   "source": [
    "#Extend each well into the future for production start, end, and months columns while duplicating \n",
    "#the rest of the columns\n",
    "def increase_dates(df):\n",
    "    periods = 96    #Number of months to extend forecast out\n",
    "    df.reset_index(inplace=True, drop=True)\n",
    "    df = df.sort_values(['WELL_PERMIT_NUM', 'PRODUCTION_PERIOD_START_DATE'])\n",
    "    starter = df[['PRODUCTION_PERIOD_START_DATE']]\n",
    "    starter = starter.append(pd.DataFrame({'PRODUCTION_PERIOD_START_DATE': pd.date_range(start=starter.PRODUCTION_PERIOD_START_DATE.iloc[-1], periods= periods, freq='M',closed='right')}))\n",
    "    ender = df[['PRODUCTION_PERIOD_END_DATE']]\n",
    "    ender = ender.append(pd.DataFrame({'PRODUCTION_PERIOD_END_DATE': pd.date_range(start=ender.PRODUCTION_PERIOD_END_DATE.iloc[-1], periods= (periods+1), freq='M',closed='right')}))\n",
    "    months = df[['Months']]\n",
    "    max_months = max(months['Months'])\n",
    "    for i in range(periods):\n",
    "        months = months.append(pd.DataFrame({'Months': i+max_months+1}, index=[0]), ignore_index=True)\n",
    "    starter = starter.reset_index(drop=True)\n",
    "    ender = ender.reset_index(drop=True)\n",
    "    months = months.reset_index(drop=True)\n",
    "    df = df.drop(columns = ['PRODUCTION_PERIOD_START_DATE', 'PRODUCTION_PERIOD_END_DATE', 'Months', 'FORECAST'], axis =1)\n",
    "    df = pd.concat([df,starter], axis=1)\n",
    "    df = pd.concat([df, ender], axis =1)\n",
    "    df = pd.concat([df, months], axis =1)\n",
    "    columns = ['WELL_PERMIT_NUM', 'FARM_NAME_WELL_NUM', 'SPUD_DATE', 'GAS_QUANTITY',\n",
    "       'GAS_PRODUCTION_DAYS', 'CONDENSATE_QUANTITY',\n",
    "       'CONDENSATE_PRODUCTION_DAYS', 'OPERATOR', 'WELL_COUNTY',\n",
    "       'WELL_MUNICIPALITY', 'WELL_LATITUDE', 'WELL_LONGITUDE',\n",
    "       'SUBMISSION_FINAL_DATE', 'IP',\n",
    "       'YEAR_TIL', 'd_i', 'b', 'q_i']\n",
    "    for y in columns:\n",
    "        df[y] = df[y].iloc[1]\n",
    "    df['FORECAST_OUT'] = df.apply(get_forecast, axis =1)\n",
    "    return df\n"
   ]
  },
  {
   "cell_type": "code",
   "execution_count": null,
   "metadata": {},
   "outputs": [],
   "source": [
    "#Run extended well to get future date and forecast values for the full dataset\n",
    "fullset.reset_index(inplace=True, drop = True)\n",
    "ext_fullset = fullset.groupby('WELL_PERMIT_NUM').apply(increase_dates)"
   ]
  },
  {
   "cell_type": "code",
   "execution_count": null,
   "metadata": {},
   "outputs": [],
   "source": [
    "ext_fullset.reset_index(inplace=True, drop=True)"
   ]
  },
  {
   "cell_type": "code",
   "execution_count": null,
   "metadata": {},
   "outputs": [],
   "source": [
    "#Plot data for random individual well\n",
    "permits = ext_fullset.WELL_PERMIT_NUM.unique().tolist()\n",
    "api = random.choice(permits)\n",
    "print(api)\n",
    "\n",
    "xwell = ext_fullset[ext_fullset.WELL_PERMIT_NUM == api]['PRODUCTION_PERIOD_START_DATE']\n",
    "ywell = ext_fullset[ext_fullset.WELL_PERMIT_NUM == api]['AVERAGE_GAS_DAILY_PRODUCTION']\n",
    "ywell2 = ext_fullset[ext_fullset.WELL_PERMIT_NUM == api]['FORECAST_OUT']\n",
    "\n",
    "fig = go.Figure()\n",
    "fig.add_trace(go.Scatter(\n",
    "                    x=xwell,\n",
    "                    y=ywell,\n",
    "                    mode='lines',\n",
    "                    name='Daily Production'))\n",
    "fig.add_trace(go.Scatter(\n",
    "                    x=xwell,\n",
    "                    y=ywell2,\n",
    "                    mode='lines',\n",
    "                    name='Forecast'))\n",
    "\n",
    "fig.show()"
   ]
  },
  {
   "cell_type": "code",
   "execution_count": null,
   "metadata": {},
   "outputs": [],
   "source": [
    "#Drop Months past Minimum number of months\n",
    "ext_fullset.drop(ext_fullset[ext_fullset['Months'] > 90].index, inplace=True)"
   ]
  },
  {
   "cell_type": "code",
   "execution_count": null,
   "metadata": {},
   "outputs": [],
   "source": [
    "#Export to csv\n",
    "ext_fullset.reset_index(inplace=True, drop=True)\n",
    "ext_fullset.to_csv(saved_file)"
   ]
  }
 ],
 "metadata": {
  "kernelspec": {
   "display_name": "Python 3",
   "language": "python",
   "name": "python3"
  },
  "language_info": {
   "codemirror_mode": {
    "name": "ipython",
    "version": 3
   },
   "file_extension": ".py",
   "mimetype": "text/x-python",
   "name": "python",
   "nbconvert_exporter": "python",
   "pygments_lexer": "ipython3",
   "version": "3.7.4"
  }
 },
 "nbformat": 4,
 "nbformat_minor": 4
}
