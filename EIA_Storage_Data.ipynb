{
 "cells": [
  {
   "cell_type": "code",
   "execution_count": 1,
   "metadata": {},
   "outputs": [],
   "source": [
    "import pandas as pd\n",
    "import os\n",
    "import sqlalchemy"
   ]
  },
  {
   "cell_type": "code",
   "execution_count": null,
   "metadata": {},
   "outputs": [],
   "source": [
    "#Change desired directory\n",
    "#os.chdir(\"\") "
   ]
  },
  {
   "cell_type": "markdown",
   "metadata": {},
   "source": [
    "Storage data pulled from https://ir.eia.gov/ngs/ngs.html"
   ]
  },
  {
   "cell_type": "code",
   "execution_count": 2,
   "metadata": {},
   "outputs": [],
   "source": [
    "#Read in historic averages\n",
    "url2 = 'https://ir.eia.gov/ngs/ngsstats.xls'\n",
    "five_year = pd.read_excel(url2)"
   ]
  },
  {
   "cell_type": "code",
   "execution_count": 3,
   "metadata": {},
   "outputs": [],
   "source": [
    "old_averages = pd.read_csv('C:/Users/Max Winek/Documents/Python Scripts/EIA Storage Reports/Archive/ngsstats - ngsstats 2021 (2016-2020).csv')"
   ]
  },
  {
   "cell_type": "code",
   "execution_count": 4,
   "metadata": {},
   "outputs": [],
   "source": [
    "old_averages['Report Date'] = pd.to_datetime(old_averages['Report Date'])"
   ]
  },
  {
   "cell_type": "code",
   "execution_count": 5,
   "metadata": {},
   "outputs": [],
   "source": [
    "old_averages = old_averages.set_index(['Report Date'])"
   ]
  },
  {
   "cell_type": "code",
   "execution_count": 6,
   "metadata": {},
   "outputs": [],
   "source": [
    "#Find columns and data and get rid of junk rows\n",
    "head = five_year.iloc[1]\n",
    "five_year = five_year.iloc[2:]\n",
    "five_year.columns = head\n",
    "five_year_short = five_year.iloc[:-3]\n",
    "five_year_short = five_year_short.set_index(['Report Date'])"
   ]
  },
  {
   "cell_type": "code",
   "execution_count": 7,
   "metadata": {},
   "outputs": [
    {
     "name": "stderr",
     "output_type": "stream",
     "text": [
      "C:\\Users\\Max Winek\\Documents\\Work\\Arsenal\\Python\\lib\\site-packages\\pandas\\core\\indexing.py:1597: SettingWithCopyWarning: \n",
      "A value is trying to be set on a copy of a slice from a DataFrame.\n",
      "Try using .loc[row_indexer,col_indexer] = value instead\n",
      "\n",
      "See the caveats in the documentation: https://pandas.pydata.org/pandas-docs/stable/user_guide/indexing.html#returning-a-view-versus-a-copy\n",
      "  self.obj[key] = value\n",
      "C:\\Users\\Max Winek\\Documents\\Work\\Arsenal\\Python\\lib\\site-packages\\pandas\\core\\indexing.py:1720: SettingWithCopyWarning: \n",
      "A value is trying to be set on a copy of a slice from a DataFrame.\n",
      "Try using .loc[row_indexer,col_indexer] = value instead\n",
      "\n",
      "See the caveats in the documentation: https://pandas.pydata.org/pandas-docs/stable/user_guide/indexing.html#returning-a-view-versus-a-copy\n",
      "  self._setitem_single_column(loc, value, pi)\n"
     ]
    }
   ],
   "source": [
    "#Seperate data into categories by column indexing\n",
    "five_year_avg = five_year_short.iloc[:,:8]\n",
    "five_year_avg.loc[:, 'Category'] = 'Five Year Storage Average'\n",
    "five_year_max = five_year_short.iloc[:,8:16]\n",
    "five_year_max.loc[:, 'Category'] = 'Five Year Storage Maximum'\n",
    "five_year_min = five_year_short.iloc[:, 16:24]\n",
    "five_year_min.loc[:, 'Category'] = 'Five Year Storage Minimum'"
   ]
  },
  {
   "cell_type": "code",
   "execution_count": 8,
   "metadata": {},
   "outputs": [],
   "source": [
    "#Append the seperated columns together for final average storage df\n",
    "df = five_year_avg.append(five_year_max, ignore_index=False)\n",
    "df = df.append(five_year_min, ignore_index=False)"
   ]
  },
  {
   "cell_type": "code",
   "execution_count": 9,
   "metadata": {},
   "outputs": [],
   "source": [
    "df = df.append(old_averages, ignore_index = False)"
   ]
  },
  {
   "cell_type": "code",
   "execution_count": 10,
   "metadata": {},
   "outputs": [],
   "source": [
    "df = df.drop_duplicates()"
   ]
  },
  {
   "cell_type": "code",
   "execution_count": 11,
   "metadata": {},
   "outputs": [],
   "source": [
    "#Pull in current storage numbers\n",
    "url = 'https://ir.eia.gov/ngs/ngshistory.xls'\n",
    "dfex = pd.read_excel(url)"
   ]
  },
  {
   "cell_type": "code",
   "execution_count": 12,
   "metadata": {},
   "outputs": [],
   "source": [
    "#Find columns and data\n",
    "colum = dfex.iloc[5]\n",
    "dfex = dfex.iloc[6:]\n",
    "dfex.columns = colum"
   ]
  },
  {
   "cell_type": "code",
   "execution_count": 13,
   "metadata": {},
   "outputs": [],
   "source": [
    "#Renaming Initial Column\n",
    "new_columns = dfex.columns.values\n",
    "new_columns[0] = 'Report Date'\n",
    "dfex.columns  = new_columns"
   ]
  },
  {
   "cell_type": "code",
   "execution_count": 14,
   "metadata": {},
   "outputs": [],
   "source": [
    "#Set column index to report date, drop 'Source', and add 'Category'\n",
    "dfex = dfex.set_index(['Report Date'])\n",
    "dfex = dfex.drop(['Source'], axis =1)\n",
    "dfex.loc[:,'Category'] = 'Current Storage'"
   ]
  },
  {
   "cell_type": "code",
   "execution_count": 15,
   "metadata": {},
   "outputs": [],
   "source": [
    "#Rename df columns to match dfex\n",
    "df.columns = dfex.columns"
   ]
  },
  {
   "cell_type": "code",
   "execution_count": 16,
   "metadata": {},
   "outputs": [],
   "source": [
    "#Combine all data\n",
    "all_data = df.append(dfex, ignore_index=False)"
   ]
  },
  {
   "cell_type": "code",
   "execution_count": 17,
   "metadata": {},
   "outputs": [],
   "source": [
    "#Pull Report Date index out into a column\n",
    "all_data['Report Date'] = all_data.index"
   ]
  },
  {
   "cell_type": "code",
   "execution_count": 18,
   "metadata": {},
   "outputs": [],
   "source": [
    "#Melt data so category contains all these columns\n",
    "final_data = all_data.melt(id_vars=['Report Date', 'Category'], value_vars=['East Region', 'Midwest Region',\n",
    "       'Mountain Region', 'Pacific Region', 'South Central Region', 'Salt',\n",
    "       'NonSalt', 'Total Lower 48'])"
   ]
  },
  {
   "cell_type": "code",
   "execution_count": 19,
   "metadata": {},
   "outputs": [],
   "source": [
    "#Rename melted columns\n",
    "final_data.columns = ['Report Date', 'Category', 'Region', 'Storage Amount']"
   ]
  },
  {
   "cell_type": "code",
   "execution_count": 20,
   "metadata": {},
   "outputs": [],
   "source": [
    "final_data.to_csv(r'ngshistory - html_report_history.csv')"
   ]
  },
  {
   "cell_type": "code",
   "execution_count": null,
   "metadata": {},
   "outputs": [],
   "source": []
  }
 ],
 "metadata": {
  "kernelspec": {
   "display_name": "Python 3",
   "language": "python",
   "name": "python3"
  },
  "language_info": {
   "codemirror_mode": {
    "name": "ipython",
    "version": 3
   },
   "file_extension": ".py",
   "mimetype": "text/x-python",
   "name": "python",
   "nbconvert_exporter": "python",
   "pygments_lexer": "ipython3",
   "version": "3.7.4"
  }
 },
 "nbformat": 4,
 "nbformat_minor": 2
}
