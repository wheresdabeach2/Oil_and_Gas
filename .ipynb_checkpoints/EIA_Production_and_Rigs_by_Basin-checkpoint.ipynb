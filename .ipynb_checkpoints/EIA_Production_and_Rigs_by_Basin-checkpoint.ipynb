{
 "cells": [
  {
   "cell_type": "code",
   "execution_count": 12,
   "metadata": {},
   "outputs": [],
   "source": [
    "import pandas as pd\n",
    "import os"
   ]
  },
  {
   "cell_type": "code",
   "execution_count": null,
   "metadata": {},
   "outputs": [],
   "source": [
    "#Change directory\n",
    "#os.chdir(r'') "
   ]
  },
  {
   "cell_type": "code",
   "execution_count": 13,
   "metadata": {},
   "outputs": [],
   "source": [
    "#Read in data from EIA website\n",
    "url = 'https://www.eia.gov/petroleum/drilling/xls/dpr-data.xlsx'\n",
    "workbook = pd.read_excel(url, sheet_name = None)"
   ]
  },
  {
   "cell_type": "code",
   "execution_count": 14,
   "metadata": {},
   "outputs": [],
   "source": [
    "#Remove Region Counties\n",
    "del workbook['RegionCounties']"
   ]
  },
  {
   "cell_type": "code",
   "execution_count": 23,
   "metadata": {},
   "outputs": [
    {
     "name": "stderr",
     "output_type": "stream",
     "text": [
      "C:\\Users\\Max Winek\\Documents\\Work\\Arsenal\\Python\\lib\\site-packages\\ipykernel_launcher.py:7: SettingWithCopyWarning: \n",
      "A value is trying to be set on a copy of a slice from a DataFrame.\n",
      "Try using .loc[row_indexer,col_indexer] = value instead\n",
      "\n",
      "See the caveats in the documentation: https://pandas.pydata.org/pandas-docs/stable/user_guide/indexing.html#returning-a-view-versus-a-copy\n",
      "  import sys\n"
     ]
    }
   ],
   "source": [
    "full_table = pd.DataFrame()\n",
    "for key, value in workbook.items():\n",
    "    value = value.iloc[1:,:]\n",
    "    value.columns = ['Month', 'Rig count', 'Oil Production per rig', 'Oil Legacy production change', 'Total Oil production (bbl/d)',\n",
    "    'Gas Production per rig', 'Gas Legacy production change', 'Total Gas production (mcf/d)','junk1','junk2']\n",
    "    value.loc[:,'Basin'] = key\n",
    "    value['Month'] =  pd.to_datetime(value['Month'])\n",
    "    value = value.drop(['junk1', 'junk2'], axis=1)\n",
    "    full_table = full_table.append(value)\n",
    "    "
   ]
  },
  {
   "cell_type": "code",
   "execution_count": 24,
   "metadata": {},
   "outputs": [],
   "source": [
    "full_table.reset_index(inplace=True, drop=True)"
   ]
  },
  {
   "cell_type": "code",
   "execution_count": 26,
   "metadata": {},
   "outputs": [],
   "source": [
    "basin_dict = {'Bakken Region': 'Oil', 'Eagle Ford Region': 'Oil', 'Niobrara Region': 'Oil',\n",
    "             'Permian Region': 'Oil', 'Haynesville Region': 'Gas', 'Anadarko Region': 'Oil',\n",
    "             'Appalachia Region':'Gas'}"
   ]
  },
  {
   "cell_type": "code",
   "execution_count": 27,
   "metadata": {},
   "outputs": [],
   "source": [
    "full_table['Basin Type']= full_table['Basin'].map(basin_dict)"
   ]
  },
  {
   "cell_type": "code",
   "execution_count": 31,
   "metadata": {},
   "outputs": [],
   "source": [
    "full_table.to_csv(r'EIA_Production_and_Rigs.csv', index=False)"
   ]
  }
 ],
 "metadata": {
  "kernelspec": {
   "display_name": "Python 3",
   "language": "python",
   "name": "python3"
  },
  "language_info": {
   "codemirror_mode": {
    "name": "ipython",
    "version": 3
   },
   "file_extension": ".py",
   "mimetype": "text/x-python",
   "name": "python",
   "nbconvert_exporter": "python",
   "pygments_lexer": "ipython3",
   "version": "3.7.4"
  }
 },
 "nbformat": 4,
 "nbformat_minor": 2
}
