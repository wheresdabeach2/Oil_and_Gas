{
 "cells": [
  {
   "cell_type": "code",
   "execution_count": 1,
   "metadata": {},
   "outputs": [],
   "source": [
    "import pandas as pd\n",
    "import os"
   ]
  },
  {
   "cell_type": "code",
   "execution_count": 2,
   "metadata": {},
   "outputs": [],
   "source": [
    "#change to descired directory\n",
    "#os.chdir(r'')"
   ]
  },
  {
   "cell_type": "code",
   "execution_count": 3,
   "metadata": {},
   "outputs": [],
   "source": [
    "#Read in data from EIA website\n",
    "df = pd.read_excel('https://www.eia.gov/petroleum/drilling/xls/duc-data.xlsx')"
   ]
  },
  {
   "cell_type": "code",
   "execution_count": 10,
   "metadata": {},
   "outputs": [],
   "source": [
    "#Pull first column as date column\n",
    "date_col = df.iloc[:,0]"
   ]
  },
  {
   "cell_type": "code",
   "execution_count": 13,
   "metadata": {},
   "outputs": [
    {
     "data": {
      "text/html": [
       "<div>\n",
       "<style scoped>\n",
       "    .dataframe tbody tr th:only-of-type {\n",
       "        vertical-align: middle;\n",
       "    }\n",
       "\n",
       "    .dataframe tbody tr th {\n",
       "        vertical-align: top;\n",
       "    }\n",
       "\n",
       "    .dataframe thead th {\n",
       "        text-align: right;\n",
       "    }\n",
       "</style>\n",
       "<table border=\"1\" class=\"dataframe\">\n",
       "  <thead>\n",
       "    <tr style=\"text-align: right;\">\n",
       "      <th></th>\n",
       "      <th>Date</th>\n",
       "      <th>Drilled</th>\n",
       "      <th>Completed</th>\n",
       "      <th>DUC</th>\n",
       "      <th>Basin</th>\n",
       "    </tr>\n",
       "  </thead>\n",
       "  <tbody>\n",
       "    <tr>\n",
       "      <th>3</th>\n",
       "      <td>2013-12-01 00:00:00</td>\n",
       "      <td>--</td>\n",
       "      <td>--</td>\n",
       "      <td>375</td>\n",
       "      <td>Anadarko</td>\n",
       "    </tr>\n",
       "    <tr>\n",
       "      <th>4</th>\n",
       "      <td>2014-01-01 00:00:00</td>\n",
       "      <td>222</td>\n",
       "      <td>215</td>\n",
       "      <td>382</td>\n",
       "      <td>Anadarko</td>\n",
       "    </tr>\n",
       "    <tr>\n",
       "      <th>5</th>\n",
       "      <td>2014-02-01 00:00:00</td>\n",
       "      <td>195</td>\n",
       "      <td>197</td>\n",
       "      <td>380</td>\n",
       "      <td>Anadarko</td>\n",
       "    </tr>\n",
       "    <tr>\n",
       "      <th>6</th>\n",
       "      <td>2014-03-01 00:00:00</td>\n",
       "      <td>202</td>\n",
       "      <td>238</td>\n",
       "      <td>344</td>\n",
       "      <td>Anadarko</td>\n",
       "    </tr>\n",
       "    <tr>\n",
       "      <th>7</th>\n",
       "      <td>2014-04-01 00:00:00</td>\n",
       "      <td>229</td>\n",
       "      <td>235</td>\n",
       "      <td>338</td>\n",
       "      <td>Anadarko</td>\n",
       "    </tr>\n",
       "    <tr>\n",
       "      <th>...</th>\n",
       "      <td>...</td>\n",
       "      <td>...</td>\n",
       "      <td>...</td>\n",
       "      <td>...</td>\n",
       "      <td>...</td>\n",
       "    </tr>\n",
       "    <tr>\n",
       "      <th>85</th>\n",
       "      <td>2020-10-01 00:00:00</td>\n",
       "      <td>315</td>\n",
       "      <td>599</td>\n",
       "      <td>7857</td>\n",
       "      <td>DPR Regions</td>\n",
       "    </tr>\n",
       "    <tr>\n",
       "      <th>86</th>\n",
       "      <td>2020-11-01 00:00:00</td>\n",
       "      <td>334</td>\n",
       "      <td>592</td>\n",
       "      <td>7599</td>\n",
       "      <td>DPR Regions</td>\n",
       "    </tr>\n",
       "    <tr>\n",
       "      <th>87</th>\n",
       "      <td>2020-12-01 00:00:00</td>\n",
       "      <td>373</td>\n",
       "      <td>595</td>\n",
       "      <td>7377</td>\n",
       "      <td>DPR Regions</td>\n",
       "    </tr>\n",
       "    <tr>\n",
       "      <th>88</th>\n",
       "      <td>2021-01-01 00:00:00</td>\n",
       "      <td>417</td>\n",
       "      <td>606</td>\n",
       "      <td>7188</td>\n",
       "      <td>DPR Regions</td>\n",
       "    </tr>\n",
       "    <tr>\n",
       "      <th>89</th>\n",
       "      <td>2021-02-01 00:00:00</td>\n",
       "      <td>380</td>\n",
       "      <td>482</td>\n",
       "      <td>7086</td>\n",
       "      <td>DPR Regions</td>\n",
       "    </tr>\n",
       "  </tbody>\n",
       "</table>\n",
       "<p>696 rows × 5 columns</p>\n",
       "</div>"
      ],
      "text/plain": [
       "                   Date Drilled Completed   DUC        Basin\n",
       "3   2013-12-01 00:00:00      --        --   375     Anadarko\n",
       "4   2014-01-01 00:00:00     222       215   382     Anadarko\n",
       "5   2014-02-01 00:00:00     195       197   380     Anadarko\n",
       "6   2014-03-01 00:00:00     202       238   344     Anadarko\n",
       "7   2014-04-01 00:00:00     229       235   338     Anadarko\n",
       "..                  ...     ...       ...   ...          ...\n",
       "85  2020-10-01 00:00:00     315       599  7857  DPR Regions\n",
       "86  2020-11-01 00:00:00     334       592  7599  DPR Regions\n",
       "87  2020-12-01 00:00:00     373       595  7377  DPR Regions\n",
       "88  2021-01-01 00:00:00     417       606  7188  DPR Regions\n",
       "89  2021-02-01 00:00:00     380       482  7086  DPR Regions\n",
       "\n",
       "[696 rows x 5 columns]"
      ]
     },
     "execution_count": 13,
     "metadata": {},
     "output_type": "execute_result"
    }
   ],
   "source": [
    "i = 1\n",
    "total_df = pd.DataFrame([])\n",
    "#Iterate over each basin column group, label columns, and append to the total df\n",
    "while i <len(df.columns):\n",
    "    temp = df.iloc[:,i:i+3]\n",
    "    temp.loc[:,'temp'] = temp.iloc[1,0]\n",
    "    temp = pd.concat([date_col, temp], axis =1)\n",
    "    temp = temp.iloc[3:]\n",
    "    temp.columns = ['Date', 'Drilled', 'Completed', 'DUC', 'Basin']\n",
    "    total_df = total_df.append(temp)\n",
    "    i += 4\n",
    "total_df"
   ]
  },
  {
   "cell_type": "code",
   "execution_count": null,
   "metadata": {},
   "outputs": [],
   "source": [
    "total_df.loc[:,'Date'] = pd.to_datetime(total_df.loc[:,'Date'])"
   ]
  },
  {
   "cell_type": "code",
   "execution_count": null,
   "metadata": {},
   "outputs": [],
   "source": [
    "total_df.reset_index(inplace=True, drop = True)"
   ]
  },
  {
   "cell_type": "code",
   "execution_count": null,
   "metadata": {},
   "outputs": [],
   "source": [
    "#Dictionary to map Basin type\n",
    "basin_dict = {' Bakken': 'Oil', '  Eagle Ford': 'Oil', 'Niobrara': 'Oil',\n",
    "             'Permian': 'Oil', 'Haynesville': 'Gas', 'Anadarko': 'Oil',\n",
    "             'Appalachia':'Gas'}"
   ]
  },
  {
   "cell_type": "code",
   "execution_count": null,
   "metadata": {},
   "outputs": [],
   "source": [
    "#Map Basin type to new column\n",
    "total_df['Basin Type']= total_df['Basin'].map(basin_dict)"
   ]
  },
  {
   "cell_type": "code",
   "execution_count": null,
   "metadata": {},
   "outputs": [],
   "source": [
    "#Write to csv in current directory\n",
    "total_df.to_csv(r'DUC_Data.csv')"
   ]
  }
 ],
 "metadata": {
  "kernelspec": {
   "display_name": "Python 3",
   "language": "python",
   "name": "python3"
  },
  "language_info": {
   "codemirror_mode": {
    "name": "ipython",
    "version": 3
   },
   "file_extension": ".py",
   "mimetype": "text/x-python",
   "name": "python",
   "nbconvert_exporter": "python",
   "pygments_lexer": "ipython3",
   "version": "3.7.4"
  }
 },
 "nbformat": 4,
 "nbformat_minor": 2
}
