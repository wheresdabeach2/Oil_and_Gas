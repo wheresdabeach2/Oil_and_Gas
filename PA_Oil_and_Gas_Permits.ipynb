{
 "cells": [
  {
   "cell_type": "code",
   "execution_count": null,
   "metadata": {},
   "outputs": [],
   "source": [
    "import pandas as pd\n",
    "from dateutil.relativedelta import relativedelta\n",
    "from datetime import date"
   ]
  },
  {
   "cell_type": "code",
   "execution_count": null,
   "metadata": {},
   "outputs": [],
   "source": [
    "#Change desired directory\n",
    "#os.chdir(\"\") "
   ]
  },
  {
   "cell_type": "markdown",
   "metadata": {},
   "source": [
    "Pull data from PA DEP permit site:\n",
    "http://cedatareporting.pa.gov/Reportserver/Pages/ReportViewer.aspx?/Public/DEP/OG/SSRS/Permits_Issued_Detail\n",
    "and save as csv"
   ]
  },
  {
   "cell_type": "code",
   "execution_count": 1,
   "metadata": {},
   "outputs": [],
   "source": [
    "#file =\n",
    "permits = pd.read_csv(file)\n",
    "pd.set_option('display.max_rows', None)"
   ]
  },
  {
   "cell_type": "code",
   "execution_count": 2,
   "metadata": {},
   "outputs": [],
   "source": [
    "#Change Rice, Chevron, and EQT Chap permits to EQT Permitsm\n",
    "permits['OPERATOR'] = permits['OPERATOR'].replace(['RICE DRILLING B LLC','CHEVRON APPALACHIA LLC','EQT CHAP LLC'],['EQT PROD CO', 'EQT PROD CO', 'EQT PROD CO'])"
   ]
  },
  {
   "cell_type": "code",
   "execution_count": 3,
   "metadata": {},
   "outputs": [],
   "source": [
    "#Convert dates to date time and add expiration date of permit\n",
    "permits['PERMIT_ISSUED_DATE'] = pd.to_datetime(permits['PERMIT_ISSUED_DATE'])"
   ]
  },
  {
   "cell_type": "code",
   "execution_count": 4,
   "metadata": {},
   "outputs": [],
   "source": [
    "permits['PERMIT_ISSUED_DATE'] = permits['PERMIT_ISSUED_DATE'].dt.date\n",
    "permits['SPUD_DATE'] = pd.to_datetime(permits['SPUD_DATE'])\n",
    "permits['SPUD_DATE'] = permits['SPUD_DATE'].dt.date\n",
    "permits['EXPIRATION_DATE'] = permits['PERMIT_ISSUED_DATE'] + relativedelta(years=2)"
   ]
  },
  {
   "cell_type": "code",
   "execution_count": 5,
   "metadata": {},
   "outputs": [],
   "source": [
    "#Add a status column to show whether permit is expired, drilled, or active\n",
    "permits.loc[(pd.notna(permits['SPUD_DATE']), 'STATUS')] = 'DRILLED'\n",
    "permits.loc[((permits['EXPIRATION_DATE'] < date.today()) & pd.isna(permits['SPUD_DATE']), 'STATUS')] = 'EXPIRED'\n",
    "permits['STATUS'] = permits['STATUS'].fillna('ACTIVE')"
   ]
  },
  {
   "cell_type": "code",
   "execution_count": 6,
   "metadata": {},
   "outputs": [],
   "source": [
    "#Write to excel\n",
    "permits.to_excel(r'Permits_Adjusted.xlsx')"
   ]
  },
  {
   "cell_type": "code",
   "execution_count": null,
   "metadata": {},
   "outputs": [],
   "source": []
  }
 ],
 "metadata": {
  "kernelspec": {
   "display_name": "Python 3",
   "language": "python",
   "name": "python3"
  },
  "language_info": {
   "codemirror_mode": {
    "name": "ipython",
    "version": 3
   },
   "file_extension": ".py",
   "mimetype": "text/x-python",
   "name": "python",
   "nbconvert_exporter": "python",
   "pygments_lexer": "ipython3",
   "version": "3.7.4"
  }
 },
 "nbformat": 4,
 "nbformat_minor": 4
}
